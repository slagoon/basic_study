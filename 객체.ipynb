{
 "cells": [
  {
   "cell_type": "code",
   "execution_count": 7,
   "id": "004d9dad",
   "metadata": {
    "ExecuteTime": {
     "end_time": "2022-01-26T06:32:23.604752Z",
     "start_time": "2022-01-26T06:32:23.598693Z"
    }
   },
   "outputs": [],
   "source": [
    "class triangle(object):\n",
    "    \n",
    "    def __init__(self, h, v):\n",
    "        self.h = h\n",
    "        self.v = v\n",
    "    def area(self):\n",
    "        return self.h * self.v *(1/2)"
   ]
  },
  {
   "cell_type": "code",
   "execution_count": 8,
   "id": "9efd3896",
   "metadata": {
    "ExecuteTime": {
     "end_time": "2022-01-26T06:32:23.892454Z",
     "start_time": "2022-01-26T06:32:23.888456Z"
    }
   },
   "outputs": [],
   "source": [
    "a= triangle(4,4)"
   ]
  },
  {
   "cell_type": "code",
   "execution_count": 9,
   "id": "a006b112",
   "metadata": {
    "ExecuteTime": {
     "end_time": "2022-01-26T06:32:24.239399Z",
     "start_time": "2022-01-26T06:32:24.227389Z"
    }
   },
   "outputs": [
    {
     "data": {
      "text/plain": [
       "8.0"
      ]
     },
     "execution_count": 9,
     "metadata": {},
     "output_type": "execute_result"
    }
   ],
   "source": [
    "a.area()"
   ]
  },
  {
   "cell_type": "code",
   "execution_count": 10,
   "id": "d17dcb2b",
   "metadata": {
    "ExecuteTime": {
     "end_time": "2022-01-26T06:34:04.131825Z",
     "start_time": "2022-01-26T06:34:04.112754Z"
    }
   },
   "outputs": [],
   "source": [
    "# 케릭터\n",
    "class Character(object):\n",
    "    def __init__(self):\n",
    "        self.life = 1000\n",
    "        \n",
    "    def attacked(self):\n",
    "        self.life -= 10\n",
    "        print(\"공격받음! 생명력 = \", self.life)"
   ]
  },
  {
   "cell_type": "code",
   "execution_count": 11,
   "id": "9f1c1276",
   "metadata": {
    "ExecuteTime": {
     "end_time": "2022-01-26T06:34:15.520002Z",
     "start_time": "2022-01-26T06:34:15.504930Z"
    }
   },
   "outputs": [],
   "source": [
    "a = Character()"
   ]
  },
  {
   "cell_type": "code",
   "execution_count": 12,
   "id": "79637f34",
   "metadata": {
    "ExecuteTime": {
     "end_time": "2022-01-26T06:34:19.824228Z",
     "start_time": "2022-01-26T06:34:19.820237Z"
    }
   },
   "outputs": [
    {
     "data": {
      "text/plain": [
       "1000"
      ]
     },
     "execution_count": 12,
     "metadata": {},
     "output_type": "execute_result"
    }
   ],
   "source": [
    "a.life"
   ]
  },
  {
   "cell_type": "code",
   "execution_count": 13,
   "id": "53b3ee19",
   "metadata": {
    "ExecuteTime": {
     "end_time": "2022-01-26T06:34:36.853457Z",
     "start_time": "2022-01-26T06:34:36.847449Z"
    }
   },
   "outputs": [
    {
     "name": "stdout",
     "output_type": "stream",
     "text": [
      "공격받음! 생명력 =  990\n"
     ]
    }
   ],
   "source": [
    "a.attacked()"
   ]
  },
  {
   "cell_type": "code",
   "execution_count": 14,
   "id": "2782ed41",
   "metadata": {
    "ExecuteTime": {
     "end_time": "2022-01-26T06:34:41.575880Z",
     "start_time": "2022-01-26T06:34:41.567802Z"
    }
   },
   "outputs": [
    {
     "name": "stdout",
     "output_type": "stream",
     "text": [
      "공격받음! 생명력 =  980\n"
     ]
    }
   ],
   "source": [
    "a.attacked()"
   ]
  },
  {
   "cell_type": "code",
   "execution_count": 15,
   "id": "952f84ff",
   "metadata": {
    "ExecuteTime": {
     "end_time": "2022-01-26T06:36:47.125189Z",
     "start_time": "2022-01-26T06:36:47.112191Z"
    }
   },
   "outputs": [],
   "source": [
    "class Warrior(Character):\n",
    "    \n",
    "    def __init__(self):\n",
    "        super(Warrior, self).__init__()\n",
    "        self.strength = 15\n",
    "        self.intelligence = 5\n",
    "    "
   ]
  },
  {
   "cell_type": "code",
   "execution_count": 18,
   "id": "34cef9ad",
   "metadata": {
    "ExecuteTime": {
     "end_time": "2022-01-26T06:38:13.350837Z",
     "start_time": "2022-01-26T06:38:13.339804Z"
    }
   },
   "outputs": [],
   "source": [
    "class Wizard(Character):\n",
    "    \n",
    "    def __init__(self):\n",
    "        super(Wizard, self).__init__()\n",
    "        self.strength = 5\n",
    "        self.intelligence = 15"
   ]
  },
  {
   "cell_type": "code",
   "execution_count": 19,
   "id": "a13be2cc",
   "metadata": {
    "ExecuteTime": {
     "end_time": "2022-01-26T06:38:13.668259Z",
     "start_time": "2022-01-26T06:38:13.664257Z"
    }
   },
   "outputs": [],
   "source": [
    "a = Warrior()\n",
    "b = Wizard()"
   ]
  },
  {
   "cell_type": "code",
   "execution_count": 20,
   "id": "08313abd",
   "metadata": {
    "ExecuteTime": {
     "end_time": "2022-01-26T06:38:22.985460Z",
     "start_time": "2022-01-26T06:38:22.972384Z"
    }
   },
   "outputs": [
    {
     "data": {
      "text/plain": [
       "(15, 5)"
      ]
     },
     "execution_count": 20,
     "metadata": {},
     "output_type": "execute_result"
    }
   ],
   "source": [
    "a.strength, b.strength"
   ]
  },
  {
   "cell_type": "code",
   "execution_count": 21,
   "id": "7e481ff3",
   "metadata": {
    "ExecuteTime": {
     "end_time": "2022-01-26T06:39:32.972509Z",
     "start_time": "2022-01-26T06:39:32.962510Z"
    }
   },
   "outputs": [],
   "source": [
    "class Character(object):\n",
    "\n",
    "    def __init__(self):\n",
    "        self.life = 1000\n",
    "        self.strength = 10\n",
    "        self.intelligence = 10\n",
    "\n",
    "    def attacked(self):\n",
    "        self.life -= 10\n",
    "        print(\"공격받음! 생명력 =\", self.life)\n",
    "\n",
    "    def attack(self):\n",
    "        print(\"공격!\")"
   ]
  },
  {
   "cell_type": "code",
   "execution_count": 22,
   "id": "89bcefc4",
   "metadata": {
    "ExecuteTime": {
     "end_time": "2022-01-26T06:39:38.547025Z",
     "start_time": "2022-01-26T06:39:38.539078Z"
    }
   },
   "outputs": [],
   "source": [
    "class Warrior(Character):\n",
    "\n",
    "    def __init__(self):\n",
    "        super(Warrior, self).__init__()\n",
    "        self.strength = 15\n",
    "        self.intelligence = 5\n",
    "\n",
    "    def attack(self):\n",
    "        print(\"육탄 공격!\")"
   ]
  },
  {
   "cell_type": "code",
   "execution_count": 23,
   "id": "dbb26c33",
   "metadata": {
    "ExecuteTime": {
     "end_time": "2022-01-26T06:39:44.648503Z",
     "start_time": "2022-01-26T06:39:44.631502Z"
    }
   },
   "outputs": [],
   "source": [
    "class Wizard(Character):\n",
    "\n",
    "    def __init__(self):\n",
    "        super(Wizard, self).__init__()\n",
    "        self.strength = 5\n",
    "        self.intelligence = 15\n",
    "\n",
    "    def attack(self):\n",
    "        print(\"마법 공격!\")"
   ]
  },
  {
   "cell_type": "code",
   "execution_count": 24,
   "id": "95b58ca2",
   "metadata": {
    "ExecuteTime": {
     "end_time": "2022-01-26T06:39:50.307567Z",
     "start_time": "2022-01-26T06:39:50.292568Z"
    }
   },
   "outputs": [],
   "source": [
    "a = Character()\n",
    "b = Warrior()\n",
    "c = Wizard()"
   ]
  },
  {
   "cell_type": "code",
   "execution_count": 25,
   "id": "e8399414",
   "metadata": {
    "ExecuteTime": {
     "end_time": "2022-01-26T06:40:00.561394Z",
     "start_time": "2022-01-26T06:40:00.557428Z"
    }
   },
   "outputs": [
    {
     "name": "stdout",
     "output_type": "stream",
     "text": [
      "공격!\n"
     ]
    }
   ],
   "source": [
    "a.attack()"
   ]
  },
  {
   "cell_type": "code",
   "execution_count": 26,
   "id": "80c37adb",
   "metadata": {
    "ExecuteTime": {
     "end_time": "2022-01-26T06:40:08.352402Z",
     "start_time": "2022-01-26T06:40:08.335402Z"
    }
   },
   "outputs": [
    {
     "name": "stdout",
     "output_type": "stream",
     "text": [
      "마법 공격!\n"
     ]
    }
   ],
   "source": [
    "c.attack()"
   ]
  },
  {
   "cell_type": "code",
   "execution_count": null,
   "id": "2f3a474a",
   "metadata": {},
   "outputs": [],
   "source": []
  }
 ],
 "metadata": {
  "kernelspec": {
   "display_name": "Python 3 (ipykernel)",
   "language": "python",
   "name": "python3"
  },
  "language_info": {
   "codemirror_mode": {
    "name": "ipython",
    "version": 3
   },
   "file_extension": ".py",
   "mimetype": "text/x-python",
   "name": "python",
   "nbconvert_exporter": "python",
   "pygments_lexer": "ipython3",
   "version": "3.8.8"
  }
 },
 "nbformat": 4,
 "nbformat_minor": 5
}
