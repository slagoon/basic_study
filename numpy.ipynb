{
 "cells": [
  {
   "cell_type": "markdown",
   "id": "a8fe2614",
   "metadata": {},
   "source": [
    "# numpy 배열"
   ]
  },
  {
   "cell_type": "code",
   "execution_count": 2,
   "id": "76cf81a7",
   "metadata": {
    "ExecuteTime": {
     "end_time": "2022-02-01T07:43:12.469690Z",
     "start_time": "2022-02-01T07:43:12.281783Z"
    }
   },
   "outputs": [],
   "source": [
    "import numpy as np"
   ]
  },
  {
   "cell_type": "markdown",
   "id": "14fafe17",
   "metadata": {},
   "source": [
    "## 1차원 배열 만들기"
   ]
  },
  {
   "cell_type": "code",
   "execution_count": 3,
   "id": "4cb5471d",
   "metadata": {
    "ExecuteTime": {
     "end_time": "2022-02-01T07:43:12.484618Z",
     "start_time": "2022-02-01T07:43:12.470691Z"
    }
   },
   "outputs": [
    {
     "data": {
      "text/plain": [
       "array([0, 1, 2, 3, 4, 5, 6, 7, 8, 9])"
      ]
     },
     "execution_count": 3,
     "metadata": {},
     "output_type": "execute_result"
    }
   ],
   "source": [
    "# 1차원 배열 만들기\n",
    "ar = np.array([0,1,2,3,4,5,6,7,8,9])\n",
    "ar"
   ]
  },
  {
   "cell_type": "markdown",
   "id": "43022073",
   "metadata": {},
   "source": [
    "넘파이의 array 함수에 리스트를 넣으면 ndarray 클래스 객체 즉, 배열로 변환해 준다. 따라서 1 차원 배열을 만드는 방법은 다음과 같다."
   ]
  },
  {
   "cell_type": "code",
   "execution_count": 4,
   "id": "2f56a082",
   "metadata": {
    "ExecuteTime": {
     "end_time": "2022-02-01T07:43:12.499721Z",
     "start_time": "2022-02-01T07:43:12.485618Z"
    }
   },
   "outputs": [
    {
     "data": {
      "text/plain": [
       "numpy.ndarray"
      ]
     },
     "execution_count": 4,
     "metadata": {},
     "output_type": "execute_result"
    }
   ],
   "source": [
    "# 타입 확인\n",
    "type(ar)"
   ]
  },
  {
   "cell_type": "markdown",
   "id": "c14bc3c4",
   "metadata": {
    "ExecuteTime": {
     "end_time": "2022-01-08T11:01:18.243008Z",
     "start_time": "2022-01-08T11:01:18.235026Z"
    }
   },
   "source": [
    "리스트와 비슷해 보이지만 type 명령으로 자료형을 살펴보면 ndarray임을 알 수 있다."
   ]
  },
  {
   "cell_type": "markdown",
   "id": "df3c87fc",
   "metadata": {},
   "source": [
    "만들어진 ndarray 객체의 표현식(representation)을 보면 바깥쪽에 array()란 것이 붙어 있을 뿐 리스트와 동일한 구조처럼 보인다. 그러나 배열 객체와 리스트 객체는 많은 차이가 있다.\n",
    "\n",
    "우선 리스트 클래스 객체는 각각의 원소가 다른 자료형이 될 수 있다. 그러나 배열 객체 객체는 C언어의 배열처럼 연속적인 메모리 배치를 가지기 때문에 모든 원소가 같은 자료형이어야 한다. 이러한 제약사항이 있는 대신 원소에 대한 접근과 반복문 실행이 빨라진다."
   ]
  },
  {
   "cell_type": "markdown",
   "id": "cf8997c8",
   "metadata": {},
   "source": [
    "## 벡터화 연산"
   ]
  },
  {
   "cell_type": "markdown",
   "id": "d457266d",
   "metadata": {},
   "source": [
    "배열 객체는 배열의 각 원소에 대한 반복 연산을 하나의 명령어로 처리하는 벡터화 연산(vectorized operation)을 지원한다. 예를 들어 다음처럼 여러개의 데이터를 모두 2배 해야 하는 경우를 생각하자."
   ]
  },
  {
   "cell_type": "code",
   "execution_count": 5,
   "id": "7d6e7c72",
   "metadata": {
    "ExecuteTime": {
     "end_time": "2022-02-01T07:43:12.514472Z",
     "start_time": "2022-02-01T07:43:12.501728Z"
    }
   },
   "outputs": [],
   "source": [
    "data = [0,1,2,3,4,5,6,7,8,9]"
   ]
  },
  {
   "cell_type": "code",
   "execution_count": 6,
   "id": "c11d772d",
   "metadata": {
    "ExecuteTime": {
     "end_time": "2022-02-01T07:43:12.529395Z",
     "start_time": "2022-02-01T07:43:12.515319Z"
    }
   },
   "outputs": [
    {
     "data": {
      "text/plain": [
       "[0, 2, 4, 6, 8, 10, 12, 14, 16, 18]"
      ]
     },
     "execution_count": 6,
     "metadata": {},
     "output_type": "execute_result"
    }
   ],
   "source": [
    "# for문으로 구현 \n",
    "answer = []\n",
    "for di in data:\n",
    "    answer.append(2*di)\n",
    "answer"
   ]
  },
  {
   "cell_type": "code",
   "execution_count": 7,
   "id": "82595e8b",
   "metadata": {
    "ExecuteTime": {
     "end_time": "2022-02-01T07:43:12.544321Z",
     "start_time": "2022-02-01T07:43:12.530321Z"
    }
   },
   "outputs": [
    {
     "data": {
      "text/plain": [
       "array([0, 1, 2, 3, 4, 5, 6, 7, 8, 9])"
      ]
     },
     "execution_count": 7,
     "metadata": {},
     "output_type": "execute_result"
    }
   ],
   "source": [
    "x = np.array(data)\n",
    "x"
   ]
  },
  {
   "cell_type": "code",
   "execution_count": 8,
   "id": "0f5aad86",
   "metadata": {
    "ExecuteTime": {
     "end_time": "2022-02-01T07:43:12.559321Z",
     "start_time": "2022-02-01T07:43:12.545335Z"
    }
   },
   "outputs": [
    {
     "data": {
      "text/plain": [
       "array([ 0,  2,  4,  6,  8, 10, 12, 14, 16, 18])"
      ]
     },
     "execution_count": 8,
     "metadata": {},
     "output_type": "execute_result"
    }
   ],
   "source": [
    "2*x"
   ]
  },
  {
   "cell_type": "code",
   "execution_count": 9,
   "id": "dbf117a7",
   "metadata": {
    "ExecuteTime": {
     "end_time": "2022-02-01T07:43:12.574366Z",
     "start_time": "2022-02-01T07:43:12.560321Z"
    }
   },
   "outputs": [
    {
     "name": "stdout",
     "output_type": "stream",
     "text": [
      "[0, 1, 2, 3, 4, 5, 6, 7, 8, 9, 0, 1, 2, 3, 4, 5, 6, 7, 8, 9]\n"
     ]
    }
   ],
   "source": [
    "L = [0,1,2,3,4,5,6,7,8,9]\n",
    "print(2*L)"
   ]
  },
  {
   "cell_type": "code",
   "execution_count": 10,
   "id": "c61653f3",
   "metadata": {
    "ExecuteTime": {
     "end_time": "2022-02-01T07:43:12.589359Z",
     "start_time": "2022-02-01T07:43:12.575354Z"
    }
   },
   "outputs": [],
   "source": [
    "a = np.array([1, 2, 3])\n",
    "b = np.array([10, 20, 30])"
   ]
  },
  {
   "cell_type": "code",
   "execution_count": 11,
   "id": "2c4f2f63",
   "metadata": {
    "ExecuteTime": {
     "end_time": "2022-02-01T07:43:12.604354Z",
     "start_time": "2022-02-01T07:43:12.591359Z"
    }
   },
   "outputs": [
    {
     "data": {
      "text/plain": [
       "array([12, 24, 36])"
      ]
     },
     "execution_count": 11,
     "metadata": {},
     "output_type": "execute_result"
    }
   ],
   "source": [
    "2 * a + b"
   ]
  },
  {
   "cell_type": "code",
   "execution_count": 12,
   "id": "5853bc67",
   "metadata": {
    "ExecuteTime": {
     "end_time": "2022-02-01T07:43:12.619253Z",
     "start_time": "2022-02-01T07:43:12.605344Z"
    }
   },
   "outputs": [
    {
     "data": {
      "text/plain": [
       "array([False,  True, False])"
      ]
     },
     "execution_count": 12,
     "metadata": {},
     "output_type": "execute_result"
    }
   ],
   "source": [
    "(a == 2) & (b > 10)"
   ]
  },
  {
   "cell_type": "markdown",
   "id": "31d646f9",
   "metadata": {},
   "source": [
    "## 2차원 배열 만들기"
   ]
  },
  {
   "cell_type": "code",
   "execution_count": 13,
   "id": "9a42f70b",
   "metadata": {
    "ExecuteTime": {
     "end_time": "2022-02-01T07:43:12.634291Z",
     "start_time": "2022-02-01T07:43:12.620255Z"
    }
   },
   "outputs": [
    {
     "data": {
      "text/plain": [
       "array([[0, 1, 2],\n",
       "       [3, 4, 5]])"
      ]
     },
     "execution_count": 13,
     "metadata": {},
     "output_type": "execute_result"
    }
   ],
   "source": [
    "# 2 * 3 배열 만들기\n",
    "c = np.array([[0,1,2],[3,4,5]])\n",
    "c"
   ]
  },
  {
   "cell_type": "code",
   "execution_count": 14,
   "id": "861e777d",
   "metadata": {
    "ExecuteTime": {
     "end_time": "2022-02-01T07:43:12.649390Z",
     "start_time": "2022-02-01T07:43:12.635300Z"
    }
   },
   "outputs": [
    {
     "data": {
      "text/plain": [
       "2"
      ]
     },
     "execution_count": 14,
     "metadata": {},
     "output_type": "execute_result"
    }
   ],
   "source": [
    "# 2차원 배열 행의 갯수\n",
    "len(c)"
   ]
  },
  {
   "cell_type": "code",
   "execution_count": 15,
   "id": "89b7f102",
   "metadata": {
    "ExecuteTime": {
     "end_time": "2022-02-01T07:43:12.664301Z",
     "start_time": "2022-02-01T07:43:12.650300Z"
    }
   },
   "outputs": [
    {
     "data": {
      "text/plain": [
       "3"
      ]
     },
     "execution_count": 15,
     "metadata": {},
     "output_type": "execute_result"
    }
   ],
   "source": [
    "# 열의 갯수\n",
    "len(c[0])"
   ]
  },
  {
   "cell_type": "markdown",
   "id": "0a05daef",
   "metadata": {},
   "source": [
    "## 3차원 배열 만들기"
   ]
  },
  {
   "cell_type": "code",
   "execution_count": 16,
   "id": "b690bc45",
   "metadata": {
    "ExecuteTime": {
     "end_time": "2022-02-01T07:43:12.679326Z",
     "start_time": "2022-02-01T07:43:12.665301Z"
    }
   },
   "outputs": [],
   "source": [
    "# 2 * 3 * 4 배열 만들기\n",
    "d = np.array([[[1, 2, 3, 4],\n",
    "               [5, 6, 7, 8],\n",
    "               [9, 10, 11, 12]],\n",
    "              [[11, 12, 13, 14],\n",
    "               [15, 16, 17, 18],\n",
    "               [19, 20, 21, 22]]])"
   ]
  },
  {
   "cell_type": "code",
   "execution_count": 17,
   "id": "fd11e069",
   "metadata": {
    "ExecuteTime": {
     "end_time": "2022-02-01T07:43:12.694335Z",
     "start_time": "2022-02-01T07:43:12.680337Z"
    }
   },
   "outputs": [
    {
     "data": {
      "text/plain": [
       "(2, 3, 4)"
      ]
     },
     "execution_count": 17,
     "metadata": {},
     "output_type": "execute_result"
    }
   ],
   "source": [
    "# 3차원 배열의 깊이, 행, 열\n",
    "len(d), len(d[0]), len(d[0][0])"
   ]
  },
  {
   "cell_type": "markdown",
   "id": "46b79af4",
   "metadata": {},
   "source": [
    "## 배열의 차원과 크기 알아내기"
   ]
  },
  {
   "cell_type": "code",
   "execution_count": 18,
   "id": "0e82707b",
   "metadata": {
    "ExecuteTime": {
     "end_time": "2022-02-01T07:43:12.709454Z",
     "start_time": "2022-02-01T07:43:12.695341Z"
    }
   },
   "outputs": [
    {
     "name": "stdout",
     "output_type": "stream",
     "text": [
      "1\n",
      "(3,)\n"
     ]
    }
   ],
   "source": [
    "a = np.array([1,2,3])\n",
    "print(a.ndim)\n",
    "print(a.shape)"
   ]
  },
  {
   "cell_type": "code",
   "execution_count": 19,
   "id": "5dab217b",
   "metadata": {
    "ExecuteTime": {
     "end_time": "2022-02-01T07:43:12.724595Z",
     "start_time": "2022-02-01T07:43:12.710453Z"
    }
   },
   "outputs": [
    {
     "name": "stdout",
     "output_type": "stream",
     "text": [
      "2\n",
      "(2, 3)\n"
     ]
    }
   ],
   "source": [
    "c = np.array([[0,1,2],[3,4,5]])\n",
    "print(c.ndim)\n",
    "print(c.shape)"
   ]
  },
  {
   "cell_type": "code",
   "execution_count": 20,
   "id": "b3d2fbd8",
   "metadata": {
    "ExecuteTime": {
     "end_time": "2022-02-01T07:43:12.739696Z",
     "start_time": "2022-02-01T07:43:12.725597Z"
    }
   },
   "outputs": [
    {
     "name": "stdout",
     "output_type": "stream",
     "text": [
      "3\n",
      "(2, 3, 4)\n"
     ]
    }
   ],
   "source": [
    "print(d.ndim)\n",
    "print(d.shape)"
   ]
  },
  {
   "cell_type": "markdown",
   "id": "46f03608",
   "metadata": {},
   "source": [
    "## 배열의 인덱싱"
   ]
  },
  {
   "cell_type": "code",
   "execution_count": 21,
   "id": "35273696",
   "metadata": {
    "ExecuteTime": {
     "end_time": "2022-02-01T07:43:12.754494Z",
     "start_time": "2022-02-01T07:43:12.740696Z"
    }
   },
   "outputs": [
    {
     "data": {
      "text/plain": [
       "2"
      ]
     },
     "execution_count": 21,
     "metadata": {},
     "output_type": "execute_result"
    }
   ],
   "source": [
    "a = np.array([0,1,2,3,4])\n",
    "a[2]"
   ]
  },
  {
   "cell_type": "code",
   "execution_count": 22,
   "id": "c6501c92",
   "metadata": {
    "ExecuteTime": {
     "end_time": "2022-02-01T07:43:12.769494Z",
     "start_time": "2022-02-01T07:43:12.755493Z"
    }
   },
   "outputs": [
    {
     "data": {
      "text/plain": [
       "4"
      ]
     },
     "execution_count": 22,
     "metadata": {},
     "output_type": "execute_result"
    }
   ],
   "source": [
    "a[-1]"
   ]
  },
  {
   "cell_type": "code",
   "execution_count": 23,
   "id": "b32fc960",
   "metadata": {
    "ExecuteTime": {
     "end_time": "2022-02-01T07:43:12.784474Z",
     "start_time": "2022-02-01T07:43:12.770497Z"
    }
   },
   "outputs": [],
   "source": [
    "# 다차원 배열\n",
    "d = np.array([[[1, 2, 3, 4],\n",
    "               [5, 6, 7, 8],\n",
    "               [9, 10, 11, 12]],\n",
    "              [[11, 12, 13, 14],\n",
    "               [15, 16, 17, 18],\n",
    "               [19, 20, 21, 22]]])"
   ]
  },
  {
   "cell_type": "code",
   "execution_count": 24,
   "id": "399625b6",
   "metadata": {
    "ExecuteTime": {
     "end_time": "2022-02-01T07:43:12.799575Z",
     "start_time": "2022-02-01T07:43:12.785482Z"
    }
   },
   "outputs": [
    {
     "data": {
      "text/plain": [
       "6"
      ]
     },
     "execution_count": 24,
     "metadata": {},
     "output_type": "execute_result"
    }
   ],
   "source": [
    "d[0,1,1]"
   ]
  },
  {
   "cell_type": "markdown",
   "id": "fb45f1c3",
   "metadata": {},
   "source": [
    "## 배열의 슬라이싱"
   ]
  },
  {
   "cell_type": "code",
   "execution_count": 25,
   "id": "3ebf332c",
   "metadata": {
    "ExecuteTime": {
     "end_time": "2022-02-01T07:43:12.814328Z",
     "start_time": "2022-02-01T07:43:12.800325Z"
    }
   },
   "outputs": [
    {
     "data": {
      "text/plain": [
       "array([[0, 1, 2, 3],\n",
       "       [4, 5, 6, 7]])"
      ]
     },
     "execution_count": 25,
     "metadata": {},
     "output_type": "execute_result"
    }
   ],
   "source": [
    "a = np.array([[0,1,2,3],[4,5,6,7]])\n",
    "a"
   ]
  },
  {
   "cell_type": "code",
   "execution_count": 26,
   "id": "85c0782e",
   "metadata": {
    "ExecuteTime": {
     "end_time": "2022-02-01T07:43:12.829378Z",
     "start_time": "2022-02-01T07:43:12.816327Z"
    }
   },
   "outputs": [
    {
     "data": {
      "text/plain": [
       "array([0, 1, 2, 3])"
      ]
     },
     "execution_count": 26,
     "metadata": {},
     "output_type": "execute_result"
    }
   ],
   "source": [
    "# 첫번쨰 행 전체\n",
    "a[0,:]"
   ]
  },
  {
   "cell_type": "code",
   "execution_count": 27,
   "id": "6fa224f2",
   "metadata": {
    "ExecuteTime": {
     "end_time": "2022-02-01T07:43:12.844336Z",
     "start_time": "2022-02-01T07:43:12.830327Z"
    }
   },
   "outputs": [
    {
     "data": {
      "text/plain": [
       "array([1, 5])"
      ]
     },
     "execution_count": 27,
     "metadata": {},
     "output_type": "execute_result"
    }
   ],
   "source": [
    "# 두번째 열 전체\n",
    "a[:,1]"
   ]
  },
  {
   "attachments": {
    "image.png": {
     "image/png": "[encoded data removed]"
    }
   },
   "cell_type": "markdown",
   "id": "c1425c70",
   "metadata": {},
   "source": [
    "![image.png](attachment:image.png)"
   ]
  },
  {
   "cell_type": "code",
   "execution_count": 28,
   "id": "4cbe8732",
   "metadata": {
    "ExecuteTime": {
     "end_time": "2022-02-01T07:43:12.859346Z",
     "start_time": "2022-02-01T07:43:12.845328Z"
    }
   },
   "outputs": [],
   "source": [
    "m = np.array([[ 0,  1,  2,  3,  4],\n",
    "            [ 5,  6,  7,  8,  9],\n",
    "            [10, 11, 12, 13, 14]])"
   ]
  },
  {
   "cell_type": "code",
   "execution_count": 29,
   "id": "052085b6",
   "metadata": {
    "ExecuteTime": {
     "end_time": "2022-02-01T07:43:12.874334Z",
     "start_time": "2022-02-01T07:43:12.861334Z"
    }
   },
   "outputs": [
    {
     "data": {
      "text/plain": [
       "7"
      ]
     },
     "execution_count": 29,
     "metadata": {},
     "output_type": "execute_result"
    }
   ],
   "source": [
    "m[1,2]"
   ]
  },
  {
   "cell_type": "code",
   "execution_count": 30,
   "id": "88048df1",
   "metadata": {
    "ExecuteTime": {
     "end_time": "2022-02-01T07:43:12.889341Z",
     "start_time": "2022-02-01T07:43:12.875337Z"
    }
   },
   "outputs": [
    {
     "data": {
      "text/plain": [
       "14"
      ]
     },
     "execution_count": 30,
     "metadata": {},
     "output_type": "execute_result"
    }
   ],
   "source": [
    "m[-1,-1]"
   ]
  },
  {
   "cell_type": "code",
   "execution_count": 31,
   "id": "6a9cea62",
   "metadata": {
    "ExecuteTime": {
     "end_time": "2022-02-01T07:43:12.904276Z",
     "start_time": "2022-02-01T07:43:12.890341Z"
    }
   },
   "outputs": [
    {
     "data": {
      "text/plain": [
       "array([6, 7])"
      ]
     },
     "execution_count": 31,
     "metadata": {},
     "output_type": "execute_result"
    }
   ],
   "source": [
    "m[1,1:3]"
   ]
  },
  {
   "cell_type": "code",
   "execution_count": 32,
   "id": "ea0a7f4a",
   "metadata": {
    "ExecuteTime": {
     "end_time": "2022-02-01T07:43:12.919798Z",
     "start_time": "2022-02-01T07:43:12.905279Z"
    }
   },
   "outputs": [
    {
     "data": {
      "text/plain": [
       "array([ 7, 12])"
      ]
     },
     "execution_count": 32,
     "metadata": {},
     "output_type": "execute_result"
    }
   ],
   "source": [
    "m[1:,2]"
   ]
  },
  {
   "cell_type": "code",
   "execution_count": 33,
   "id": "8d5daf23",
   "metadata": {
    "ExecuteTime": {
     "end_time": "2022-02-01T07:43:12.934561Z",
     "start_time": "2022-02-01T07:43:12.920798Z"
    }
   },
   "outputs": [
    {
     "data": {
      "text/plain": [
       "array([[3, 4],\n",
       "       [8, 9]])"
      ]
     },
     "execution_count": 33,
     "metadata": {},
     "output_type": "execute_result"
    }
   ],
   "source": [
    "m[:2,-2:]"
   ]
  },
  {
   "cell_type": "markdown",
   "id": "f7ef87b6",
   "metadata": {},
   "source": [
    "## 배열 인덱싱"
   ]
  },
  {
   "cell_type": "code",
   "execution_count": 34,
   "id": "7b78d0ad",
   "metadata": {
    "ExecuteTime": {
     "end_time": "2022-02-01T07:43:12.949541Z",
     "start_time": "2022-02-01T07:43:12.935533Z"
    }
   },
   "outputs": [
    {
     "data": {
      "text/plain": [
       "array([0, 2, 4, 6, 8])"
      ]
     },
     "execution_count": 34,
     "metadata": {},
     "output_type": "execute_result"
    }
   ],
   "source": [
    "a = np.array([0, 1, 2, 3, 4, 5, 6, 7, 8, 9])\n",
    "idx = np.array([True, False, True, False, True,\n",
    "               False, True, False, True, False])\n",
    "a[idx]"
   ]
  },
  {
   "cell_type": "code",
   "execution_count": 35,
   "id": "9818ccd6",
   "metadata": {
    "ExecuteTime": {
     "end_time": "2022-02-01T07:43:12.964354Z",
     "start_time": "2022-02-01T07:43:12.950196Z"
    }
   },
   "outputs": [
    {
     "data": {
      "text/plain": [
       "array([0, 2, 4, 6, 8])"
      ]
     },
     "execution_count": 35,
     "metadata": {},
     "output_type": "execute_result"
    }
   ],
   "source": [
    "a[a % 2 == 0]"
   ]
  },
  {
   "cell_type": "code",
   "execution_count": 36,
   "id": "ab2ff8a3",
   "metadata": {
    "ExecuteTime": {
     "end_time": "2022-02-01T07:43:12.979287Z",
     "start_time": "2022-02-01T07:43:12.966278Z"
    }
   },
   "outputs": [
    {
     "data": {
      "text/plain": [
       "array([11, 33, 55, 77, 99])"
      ]
     },
     "execution_count": 36,
     "metadata": {},
     "output_type": "execute_result"
    }
   ],
   "source": [
    "# 홀수 골라내기\n",
    "a = np.array([11, 22, 33, 44, 55, 66, 77, 88, 99])\n",
    "idx = np.array([0, 2, 4, 6, 8])\n",
    "a[idx]"
   ]
  },
  {
   "cell_type": "code",
   "execution_count": 37,
   "id": "d859e892",
   "metadata": {
    "ExecuteTime": {
     "end_time": "2022-02-01T07:43:12.994278Z",
     "start_time": "2022-02-01T07:43:12.980279Z"
    }
   },
   "outputs": [
    {
     "data": {
      "text/plain": [
       "array([11, 11, 11, 11, 11, 11, 22, 22, 22, 22, 22, 33, 33, 33, 33, 33])"
      ]
     },
     "execution_count": 37,
     "metadata": {},
     "output_type": "execute_result"
    }
   ],
   "source": [
    "a = np.array([11, 22, 33, 44, 55, 66, 77, 88, 99])\n",
    "idx = np.array([0, 0, 0, 0, 0, 0, 1, 1, 1, 1, 1, 2, 2, 2, 2, 2])\n",
    "a[idx]"
   ]
  },
  {
   "cell_type": "code",
   "execution_count": 38,
   "id": "09d43c78",
   "metadata": {
    "ExecuteTime": {
     "end_time": "2022-02-01T07:43:13.009279Z",
     "start_time": "2022-02-01T07:43:12.995279Z"
    }
   },
   "outputs": [
    {
     "data": {
      "text/plain": [
       "array([[ 1,  2,  3,  4],\n",
       "       [ 5,  6,  7,  8],\n",
       "       [ 9, 10, 11, 12]])"
      ]
     },
     "execution_count": 38,
     "metadata": {},
     "output_type": "execute_result"
    }
   ],
   "source": [
    "a = np.array([[1, 2, 3, 4], [5, 6, 7, 8], [9, 10, 11, 12]])\n",
    "a"
   ]
  },
  {
   "cell_type": "code",
   "execution_count": 39,
   "id": "c048beb7",
   "metadata": {
    "ExecuteTime": {
     "end_time": "2022-02-01T07:43:13.024306Z",
     "start_time": "2022-02-01T07:43:13.010278Z"
    }
   },
   "outputs": [
    {
     "data": {
      "text/plain": [
       "array([[ 1,  4],\n",
       "       [ 5,  8],\n",
       "       [ 9, 12]])"
      ]
     },
     "execution_count": 39,
     "metadata": {},
     "output_type": "execute_result"
    }
   ],
   "source": [
    "a[:, [True, False, False, True]]"
   ]
  },
  {
   "cell_type": "code",
   "execution_count": 40,
   "id": "cf3d5d5b",
   "metadata": {
    "ExecuteTime": {
     "end_time": "2022-02-01T07:43:13.039336Z",
     "start_time": "2022-02-01T07:43:13.025306Z"
    }
   },
   "outputs": [
    {
     "data": {
      "text/plain": [
       "array([[ 9, 10, 11, 12],\n",
       "       [ 1,  2,  3,  4],\n",
       "       [ 5,  6,  7,  8]])"
      ]
     },
     "execution_count": 40,
     "metadata": {},
     "output_type": "execute_result"
    }
   ],
   "source": [
    "a[[2, 0, 1], :]"
   ]
  },
  {
   "attachments": {
    "image.png": {
     "image/png": "[encoded data removed]"
    }
   },
   "cell_type": "markdown",
   "id": "0de45da1",
   "metadata": {},
   "source": [
    "![image.png](attachment:image.png)"
   ]
  },
  {
   "cell_type": "code",
   "execution_count": 41,
   "id": "8c65d0d0",
   "metadata": {
    "ExecuteTime": {
     "end_time": "2022-02-01T07:43:13.054366Z",
     "start_time": "2022-02-01T07:43:13.040337Z"
    }
   },
   "outputs": [
    {
     "data": {
      "text/plain": [
       "array([ 3,  6,  9, 12, 15, 18])"
      ]
     },
     "execution_count": 41,
     "metadata": {},
     "output_type": "execute_result"
    }
   ],
   "source": [
    "x = np.array([1, 2, 3, 4, 5, 6, 7, 8, 9, 10,\n",
    "             11, 12, 13, 14, 15, 16, 17, 18, 19, 20])\n",
    "x[x % 3 == 0]"
   ]
  },
  {
   "cell_type": "code",
   "execution_count": 42,
   "id": "97a87a73",
   "metadata": {
    "ExecuteTime": {
     "end_time": "2022-02-01T07:43:13.069398Z",
     "start_time": "2022-02-01T07:43:13.055357Z"
    }
   },
   "outputs": [
    {
     "data": {
      "text/plain": [
       "array([ 1,  5,  9, 13, 17])"
      ]
     },
     "execution_count": 42,
     "metadata": {},
     "output_type": "execute_result"
    }
   ],
   "source": [
    "x[x %4 ==1]"
   ]
  },
  {
   "cell_type": "code",
   "execution_count": 43,
   "id": "ebe9e54a",
   "metadata": {
    "ExecuteTime": {
     "end_time": "2022-02-01T07:43:13.084423Z",
     "start_time": "2022-02-01T07:43:13.071402Z"
    }
   },
   "outputs": [
    {
     "data": {
      "text/plain": [
       "array([9])"
      ]
     },
     "execution_count": 43,
     "metadata": {},
     "output_type": "execute_result"
    }
   ],
   "source": [
    "x[(x%3==0)&(x%4==1)]"
   ]
  },
  {
   "cell_type": "markdown",
   "id": "a4599416",
   "metadata": {},
   "source": [
    "# 배열의 생성과 변형"
   ]
  },
  {
   "cell_type": "markdown",
   "id": "18fda51d",
   "metadata": {},
   "source": [
    "## 넘파이의 자료형"
   ]
  },
  {
   "cell_type": "code",
   "execution_count": 45,
   "id": "e7f8f3eb",
   "metadata": {
    "ExecuteTime": {
     "end_time": "2022-02-01T07:43:21.125662Z",
     "start_time": "2022-02-01T07:43:21.114149Z"
    }
   },
   "outputs": [
    {
     "data": {
      "text/plain": [
       "dtype('int32')"
      ]
     },
     "execution_count": 45,
     "metadata": {},
     "output_type": "execute_result"
    }
   ],
   "source": [
    "# 자료형을 명시하지 않으면 스스로 유추함\n",
    "x = np.array([1, 2, 3])\n",
    "x.dtype"
   ]
  },
  {
   "cell_type": "code",
   "execution_count": 46,
   "id": "d54543a7",
   "metadata": {
    "ExecuteTime": {
     "end_time": "2022-02-01T07:50:01.046485Z",
     "start_time": "2022-02-01T07:50:01.028890Z"
    }
   },
   "outputs": [
    {
     "data": {
      "text/plain": [
       "dtype('float64')"
      ]
     },
     "execution_count": 46,
     "metadata": {},
     "output_type": "execute_result"
    }
   ],
   "source": [
    "x = np.array([1, 2, 3.0])\n",
    "x.dtype"
   ]
  },
  {
   "attachments": {
    "image.png": {
     "image/png": "[encoded data removed]"
    }
   },
   "cell_type": "markdown",
   "id": "b78768dc",
   "metadata": {},
   "source": [
    "![image.png](attachment:image.png)"
   ]
  },
  {
   "cell_type": "code",
   "execution_count": 47,
   "id": "c00d00eb",
   "metadata": {
    "ExecuteTime": {
     "end_time": "2022-02-01T08:39:07.167707Z",
     "start_time": "2022-02-01T08:39:07.158669Z"
    }
   },
   "outputs": [
    {
     "data": {
      "text/plain": [
       "dtype('float32')"
      ]
     },
     "execution_count": 47,
     "metadata": {},
     "output_type": "execute_result"
    }
   ],
   "source": [
    "x = np.array([1, 2, 3], dtype='f')\n",
    "x.dtype"
   ]
  },
  {
   "cell_type": "markdown",
   "id": "0a47820c",
   "metadata": {},
   "source": [
    "## 배열 생성"
   ]
  },
  {
   "cell_type": "code",
   "execution_count": 48,
   "id": "5385f7cc",
   "metadata": {
    "ExecuteTime": {
     "end_time": "2022-02-01T08:40:13.583301Z",
     "start_time": "2022-02-01T08:40:13.573296Z"
    }
   },
   "outputs": [
    {
     "data": {
      "text/plain": [
       "array([0., 0., 0., 0., 0.])"
      ]
     },
     "execution_count": 48,
     "metadata": {},
     "output_type": "execute_result"
    }
   ],
   "source": [
    "# 크기가 정해져 있고 모든 값이 0인 배열 생성\n",
    "a = np.zeros(5)\n",
    "a"
   ]
  },
  {
   "cell_type": "code",
   "execution_count": 55,
   "id": "47524f9e",
   "metadata": {
    "ExecuteTime": {
     "end_time": "2022-02-01T08:43:26.904631Z",
     "start_time": "2022-02-01T08:43:26.886111Z"
    }
   },
   "outputs": [
    {
     "data": {
      "text/plain": [
       "array([[0.],\n",
       "       [0.],\n",
       "       [0.]])"
      ]
     },
     "execution_count": 55,
     "metadata": {},
     "output_type": "execute_result"
    }
   ],
   "source": [
    "# 튜플을 입력하면 다차원 가능\n",
    "b = np.zeros((3,1))\n",
    "b"
   ]
  },
  {
   "cell_type": "code",
   "execution_count": 56,
   "id": "aacd2a5d",
   "metadata": {
    "ExecuteTime": {
     "end_time": "2022-02-01T08:43:27.116727Z",
     "start_time": "2022-02-01T08:43:27.100729Z"
    }
   },
   "outputs": [
    {
     "data": {
      "text/plain": [
       "array([[0, 0],\n",
       "       [0, 0],\n",
       "       [0, 0],\n",
       "       [0, 0],\n",
       "       [0, 0]], dtype=int32)"
      ]
     },
     "execution_count": 56,
     "metadata": {},
     "output_type": "execute_result"
    }
   ],
   "source": [
    "c = np.zeros((5, 2), dtype=\"i\")\n",
    "c"
   ]
  },
  {
   "cell_type": "code",
   "execution_count": 57,
   "id": "78e782f0",
   "metadata": {
    "ExecuteTime": {
     "end_time": "2022-02-01T08:43:27.282964Z",
     "start_time": "2022-02-01T08:43:27.276976Z"
    }
   },
   "outputs": [
    {
     "data": {
      "text/plain": [
       "array(['', '', '', '', ''], dtype='<U4')"
      ]
     },
     "execution_count": 57,
     "metadata": {},
     "output_type": "execute_result"
    }
   ],
   "source": [
    "d = np.zeros(5, dtype=\"U4\")\n",
    "d"
   ]
  },
  {
   "cell_type": "code",
   "execution_count": 58,
   "id": "c928b673",
   "metadata": {
    "ExecuteTime": {
     "end_time": "2022-02-01T08:43:27.464293Z",
     "start_time": "2022-02-01T08:43:27.457286Z"
    }
   },
   "outputs": [],
   "source": [
    "# 0이 아닌 1로\n",
    "e = np.ones((2,3,4), dtype= 'i8')"
   ]
  },
  {
   "cell_type": "code",
   "execution_count": 59,
   "id": "bb5eef78",
   "metadata": {
    "ExecuteTime": {
     "end_time": "2022-02-01T08:43:27.659814Z",
     "start_time": "2022-02-01T08:43:27.655826Z"
    }
   },
   "outputs": [
    {
     "data": {
      "text/plain": [
       "array([[[1, 1, 1, 1],\n",
       "        [1, 1, 1, 1],\n",
       "        [1, 1, 1, 1]],\n",
       "\n",
       "       [[1, 1, 1, 1],\n",
       "        [1, 1, 1, 1],\n",
       "        [1, 1, 1, 1]]], dtype=int64)"
      ]
     },
     "execution_count": 59,
     "metadata": {},
     "output_type": "execute_result"
    }
   ],
   "source": [
    "e"
   ]
  },
  {
   "cell_type": "code",
   "execution_count": 61,
   "id": "d5a9c301",
   "metadata": {
    "ExecuteTime": {
     "end_time": "2022-02-01T08:43:32.159181Z",
     "start_time": "2022-02-01T08:43:32.132817Z"
    }
   },
   "outputs": [
    {
     "data": {
      "text/plain": [
       "array([[1.],\n",
       "       [1.],\n",
       "       [1.]], dtype=float32)"
      ]
     },
     "execution_count": 61,
     "metadata": {},
     "output_type": "execute_result"
    }
   ],
   "source": [
    "# 튜플 대신 다른배열과 같은 크기의 배열은 ones_like, zeros_like\n",
    "f = np.ones_like(b, dtype='f')\n",
    "f"
   ]
  },
  {
   "cell_type": "code",
   "execution_count": 62,
   "id": "cc355cd4",
   "metadata": {
    "ExecuteTime": {
     "end_time": "2022-02-01T08:44:18.063574Z",
     "start_time": "2022-02-01T08:44:18.045650Z"
    }
   },
   "outputs": [
    {
     "data": {
      "text/plain": [
       "array([0, 1, 2, 3, 4, 5, 6, 7, 8, 9])"
      ]
     },
     "execution_count": 62,
     "metadata": {},
     "output_type": "execute_result"
    }
   ],
   "source": [
    "# arange는 특정한 규칙에 따른 수열 생성\n",
    "np.arange(10)"
   ]
  },
  {
   "cell_type": "code",
   "execution_count": 64,
   "id": "f4a946e6",
   "metadata": {
    "ExecuteTime": {
     "end_time": "2022-02-01T08:45:33.020627Z",
     "start_time": "2022-02-01T08:45:33.004630Z"
    }
   },
   "outputs": [
    {
     "data": {
      "text/plain": [
       "array([ 0.        ,  3.33333333,  6.66666667, 10.        ])"
      ]
     },
     "execution_count": 64,
     "metadata": {},
     "output_type": "execute_result"
    }
   ],
   "source": [
    "# 선형 구간 분할\n",
    "np.linspace(0,10,4)"
   ]
  },
  {
   "cell_type": "code",
   "execution_count": 65,
   "id": "fd91df16",
   "metadata": {
    "ExecuteTime": {
     "end_time": "2022-02-01T08:45:48.610121Z",
     "start_time": "2022-02-01T08:45:48.592122Z"
    }
   },
   "outputs": [
    {
     "data": {
      "text/plain": [
       "array([ 1.25892541,  1.58489319,  1.99526231,  2.51188643,  3.16227766,\n",
       "        3.98107171,  5.01187234,  6.30957344,  7.94328235, 10.        ])"
      ]
     },
     "execution_count": 65,
     "metadata": {},
     "output_type": "execute_result"
    }
   ],
   "source": [
    "# 로그 구간 분할\n",
    "np.logspace(0.1, 1, 10)"
   ]
  },
  {
   "cell_type": "markdown",
   "id": "e2fb2ccd",
   "metadata": {},
   "source": [
    "## 전치 연산"
   ]
  },
  {
   "cell_type": "code",
   "execution_count": 67,
   "id": "7e6e4916",
   "metadata": {
    "ExecuteTime": {
     "end_time": "2022-02-01T08:47:15.624110Z",
     "start_time": "2022-02-01T08:47:15.616109Z"
    }
   },
   "outputs": [
    {
     "data": {
      "text/plain": [
       "array([[1, 4],\n",
       "       [2, 5],\n",
       "       [3, 6]])"
      ]
     },
     "execution_count": 67,
     "metadata": {},
     "output_type": "execute_result"
    }
   ],
   "source": [
    "# 전치 = 행과 열을 바꾸는 작업\n",
    "a = np.array([[1,2,3],[4,5,6]])\n",
    "a.T"
   ]
  },
  {
   "cell_type": "markdown",
   "id": "8b3777da",
   "metadata": {},
   "source": [
    "## 배열의 크기 변형"
   ]
  },
  {
   "cell_type": "code",
   "execution_count": 68,
   "id": "f28103fa",
   "metadata": {
    "ExecuteTime": {
     "end_time": "2022-02-01T09:00:43.938618Z",
     "start_time": "2022-02-01T09:00:43.926542Z"
    }
   },
   "outputs": [
    {
     "data": {
      "text/plain": [
       "array([ 0,  1,  2,  3,  4,  5,  6,  7,  8,  9, 10, 11])"
      ]
     },
     "execution_count": 68,
     "metadata": {},
     "output_type": "execute_result"
    }
   ],
   "source": [
    "# reshpae\n",
    "a = np.arange(12)\n",
    "a"
   ]
  },
  {
   "cell_type": "code",
   "execution_count": 70,
   "id": "70d63ed3",
   "metadata": {
    "ExecuteTime": {
     "end_time": "2022-02-01T09:01:03.070179Z",
     "start_time": "2022-02-01T09:01:03.056901Z"
    }
   },
   "outputs": [
    {
     "data": {
      "text/plain": [
       "array([[ 0,  1],\n",
       "       [ 2,  3],\n",
       "       [ 4,  5],\n",
       "       [ 6,  7],\n",
       "       [ 8,  9],\n",
       "       [10, 11]])"
      ]
     },
     "execution_count": 70,
     "metadata": {},
     "output_type": "execute_result"
    }
   ],
   "source": [
    "b = a.reshape(6,2)\n",
    "b"
   ]
  },
  {
   "cell_type": "code",
   "execution_count": 71,
   "id": "5e4db2cb",
   "metadata": {
    "ExecuteTime": {
     "end_time": "2022-02-01T09:01:35.908361Z",
     "start_time": "2022-02-01T09:01:35.899172Z"
    }
   },
   "outputs": [
    {
     "data": {
      "text/plain": [
       "array([[ 0,  1,  2],\n",
       "       [ 3,  4,  5],\n",
       "       [ 6,  7,  8],\n",
       "       [ 9, 10, 11]])"
      ]
     },
     "execution_count": 71,
     "metadata": {},
     "output_type": "execute_result"
    }
   ],
   "source": [
    "# -1을 사용해 자동으로 계산\n",
    "a.reshape(4,-1)"
   ]
  },
  {
   "cell_type": "code",
   "execution_count": 73,
   "id": "4ca2b314",
   "metadata": {
    "ExecuteTime": {
     "end_time": "2022-02-01T09:02:12.592460Z",
     "start_time": "2022-02-01T09:02:12.586425Z"
    }
   },
   "outputs": [
    {
     "data": {
      "text/plain": [
       "array([ 0,  1,  2,  3,  4,  5,  6,  7,  8,  9, 10, 11])"
      ]
     },
     "execution_count": 73,
     "metadata": {},
     "output_type": "execute_result"
    }
   ],
   "source": [
    "# 다차원을 1차원으로 -> flatten, ravel\n",
    "b.flatten()"
   ]
  },
  {
   "cell_type": "code",
   "execution_count": 74,
   "id": "8f5b1438",
   "metadata": {
    "ExecuteTime": {
     "end_time": "2022-02-01T09:02:20.335796Z",
     "start_time": "2022-02-01T09:02:20.330796Z"
    }
   },
   "outputs": [
    {
     "data": {
      "text/plain": [
       "array([ 0,  1,  2,  3,  4,  5,  6,  7,  8,  9, 10, 11])"
      ]
     },
     "execution_count": 74,
     "metadata": {},
     "output_type": "execute_result"
    }
   ],
   "source": [
    "b.ravel()"
   ]
  },
  {
   "cell_type": "code",
   "execution_count": 75,
   "id": "e3091a06",
   "metadata": {
    "ExecuteTime": {
     "end_time": "2022-02-01T09:05:36.282080Z",
     "start_time": "2022-02-01T09:05:36.271003Z"
    }
   },
   "outputs": [
    {
     "data": {
      "text/plain": [
       "array([[0],\n",
       "       [1],\n",
       "       [2],\n",
       "       [3],\n",
       "       [4]])"
      ]
     },
     "execution_count": 75,
     "metadata": {},
     "output_type": "execute_result"
    }
   ],
   "source": [
    "# 같은 배열에 1차원 증가시키는 경우 -> newaxis\n",
    "x = np.arange(5)\n",
    "x[:, np.newaxis]"
   ]
  },
  {
   "cell_type": "markdown",
   "id": "1f40756d",
   "metadata": {},
   "source": [
    "## 배열연결"
   ]
  },
  {
   "attachments": {
    "image.png": {
     "image/png": "[encoded data removed]"
    }
   },
   "cell_type": "markdown",
   "id": "ba0dd199",
   "metadata": {},
   "source": [
    "![image.png](attachment:image.png)"
   ]
  },
  {
   "cell_type": "code",
   "execution_count": 76,
   "id": "eb72eb16",
   "metadata": {
    "ExecuteTime": {
     "end_time": "2022-02-01T09:06:25.686356Z",
     "start_time": "2022-02-01T09:06:25.680162Z"
    }
   },
   "outputs": [
    {
     "data": {
      "text/plain": [
       "array([[1., 1., 1.],\n",
       "       [1., 1., 1.]])"
      ]
     },
     "execution_count": 76,
     "metadata": {},
     "output_type": "execute_result"
    }
   ],
   "source": [
    "# hstack = 행의 수가 같은 배열을 옆으로 연결\n",
    "a1 = np.ones((2,3))\n",
    "a1"
   ]
  },
  {
   "cell_type": "code",
   "execution_count": 77,
   "id": "7ad555b1",
   "metadata": {
    "ExecuteTime": {
     "end_time": "2022-02-01T09:06:31.744354Z",
     "start_time": "2022-02-01T09:06:31.728262Z"
    }
   },
   "outputs": [
    {
     "data": {
      "text/plain": [
       "array([[0., 0.],\n",
       "       [0., 0.]])"
      ]
     },
     "execution_count": 77,
     "metadata": {},
     "output_type": "execute_result"
    }
   ],
   "source": [
    "a2 = np.zeros((2, 2))\n",
    "a2"
   ]
  },
  {
   "cell_type": "code",
   "execution_count": 78,
   "id": "ed89f6c8",
   "metadata": {
    "ExecuteTime": {
     "end_time": "2022-02-01T09:06:39.192542Z",
     "start_time": "2022-02-01T09:06:39.181038Z"
    }
   },
   "outputs": [
    {
     "data": {
      "text/plain": [
       "array([[1., 1., 1., 0., 0.],\n",
       "       [1., 1., 1., 0., 0.]])"
      ]
     },
     "execution_count": 78,
     "metadata": {},
     "output_type": "execute_result"
    }
   ],
   "source": [
    "np.hstack([a1, a2])"
   ]
  },
  {
   "cell_type": "code",
   "execution_count": 79,
   "id": "0f6d1a28",
   "metadata": {
    "ExecuteTime": {
     "end_time": "2022-02-01T09:07:01.586494Z",
     "start_time": "2022-02-01T09:07:01.569494Z"
    }
   },
   "outputs": [
    {
     "data": {
      "text/plain": [
       "array([[1., 1., 1.],\n",
       "       [1., 1., 1.]])"
      ]
     },
     "execution_count": 79,
     "metadata": {},
     "output_type": "execute_result"
    }
   ],
   "source": [
    "# vstack = 열의 수가 같은 배열을 위아래로 연결\n",
    "b1 = np.ones((2, 3))\n",
    "b1"
   ]
  },
  {
   "cell_type": "code",
   "execution_count": 82,
   "id": "b46db560",
   "metadata": {
    "ExecuteTime": {
     "end_time": "2022-02-01T09:07:25.265698Z",
     "start_time": "2022-02-01T09:07:25.247759Z"
    }
   },
   "outputs": [
    {
     "data": {
      "text/plain": [
       "array([[0., 0., 0.],\n",
       "       [0., 0., 0.],\n",
       "       [0., 0., 0.]])"
      ]
     },
     "execution_count": 82,
     "metadata": {},
     "output_type": "execute_result"
    }
   ],
   "source": [
    "b2 = np.zeros((3, 3))\n",
    "b2"
   ]
  },
  {
   "cell_type": "code",
   "execution_count": 83,
   "id": "e31bfbe8",
   "metadata": {
    "ExecuteTime": {
     "end_time": "2022-02-01T09:07:31.711411Z",
     "start_time": "2022-02-01T09:07:31.706406Z"
    }
   },
   "outputs": [
    {
     "data": {
      "text/plain": [
       "array([[1., 1., 1.],\n",
       "       [1., 1., 1.],\n",
       "       [0., 0., 0.],\n",
       "       [0., 0., 0.],\n",
       "       [0., 0., 0.]])"
      ]
     },
     "execution_count": 83,
     "metadata": {},
     "output_type": "execute_result"
    }
   ],
   "source": [
    "np.vstack([b1, b2])"
   ]
  },
  {
   "cell_type": "code",
   "execution_count": 84,
   "id": "6578dac1",
   "metadata": {
    "ExecuteTime": {
     "end_time": "2022-02-01T09:28:34.822440Z",
     "start_time": "2022-02-01T09:28:34.807058Z"
    }
   },
   "outputs": [
    {
     "data": {
      "text/plain": [
       "array([[1., 1., 1., 1.],\n",
       "       [1., 1., 1., 1.],\n",
       "       [1., 1., 1., 1.]])"
      ]
     },
     "execution_count": 84,
     "metadata": {},
     "output_type": "execute_result"
    }
   ],
   "source": [
    "# dstack = 깊이 방향으로 배혈을 합침\n",
    "c1 = np.ones((3, 4))\n",
    "c1"
   ]
  },
  {
   "cell_type": "code",
   "execution_count": 85,
   "id": "0bf88e5e",
   "metadata": {
    "ExecuteTime": {
     "end_time": "2022-02-01T09:28:38.771120Z",
     "start_time": "2022-02-01T09:28:38.764120Z"
    }
   },
   "outputs": [
    {
     "data": {
      "text/plain": [
       "array([[0., 0., 0., 0.],\n",
       "       [0., 0., 0., 0.],\n",
       "       [0., 0., 0., 0.]])"
      ]
     },
     "execution_count": 85,
     "metadata": {},
     "output_type": "execute_result"
    }
   ],
   "source": [
    "c2 = np.zeros((3, 4))\n",
    "c2"
   ]
  },
  {
   "cell_type": "code",
   "execution_count": 86,
   "id": "7ea80423",
   "metadata": {
    "ExecuteTime": {
     "end_time": "2022-02-01T09:28:43.873518Z",
     "start_time": "2022-02-01T09:28:43.865518Z"
    }
   },
   "outputs": [
    {
     "data": {
      "text/plain": [
       "array([[[1., 0.],\n",
       "        [1., 0.],\n",
       "        [1., 0.],\n",
       "        [1., 0.]],\n",
       "\n",
       "       [[1., 0.],\n",
       "        [1., 0.],\n",
       "        [1., 0.],\n",
       "        [1., 0.]],\n",
       "\n",
       "       [[1., 0.],\n",
       "        [1., 0.],\n",
       "        [1., 0.],\n",
       "        [1., 0.]]])"
      ]
     },
     "execution_count": 86,
     "metadata": {},
     "output_type": "execute_result"
    }
   ],
   "source": [
    "np.dstack([c1, c2])"
   ]
  },
  {
   "cell_type": "code",
   "execution_count": 87,
   "id": "2c0522dc",
   "metadata": {
    "ExecuteTime": {
     "end_time": "2022-02-01T09:29:36.870685Z",
     "start_time": "2022-02-01T09:29:36.861492Z"
    }
   },
   "outputs": [
    {
     "data": {
      "text/plain": [
       "array([[[1., 1., 1., 1.],\n",
       "        [1., 1., 1., 1.],\n",
       "        [1., 1., 1., 1.]],\n",
       "\n",
       "       [[0., 0., 0., 0.],\n",
       "        [0., 0., 0., 0.],\n",
       "        [0., 0., 0., 0.]]])"
      ]
     },
     "execution_count": 87,
     "metadata": {},
     "output_type": "execute_result"
    }
   ],
   "source": [
    "# stack 은 내가 axis를 지정\n",
    "c = np.stack([c1, c2])\n",
    "c"
   ]
  },
  {
   "cell_type": "code",
   "execution_count": 88,
   "id": "3149f03c",
   "metadata": {
    "ExecuteTime": {
     "end_time": "2022-02-01T09:29:45.951855Z",
     "start_time": "2022-02-01T09:29:45.936847Z"
    }
   },
   "outputs": [
    {
     "data": {
      "text/plain": [
       "array([[[1., 1., 1., 1.],\n",
       "        [0., 0., 0., 0.]],\n",
       "\n",
       "       [[1., 1., 1., 1.],\n",
       "        [0., 0., 0., 0.]],\n",
       "\n",
       "       [[1., 1., 1., 1.],\n",
       "        [0., 0., 0., 0.]]])"
      ]
     },
     "execution_count": 88,
     "metadata": {},
     "output_type": "execute_result"
    }
   ],
   "source": [
    "c = np.stack([c1, c2], axis=1)\n",
    "c"
   ]
  },
  {
   "cell_type": "markdown",
   "id": "8f1bceec",
   "metadata": {},
   "source": [
    "# 배열의 연산"
   ]
  },
  {
   "cell_type": "markdown",
   "id": "617f85fd",
   "metadata": {},
   "source": [
    "## 브로드 캐스팅\n",
    "- 크기가 다른 벡터/행렬의 연산을 지원"
   ]
  },
  {
   "attachments": {
    "image.png": {
     "image/png": "[encoded data removed]"
    }
   },
   "cell_type": "markdown",
   "id": "1d1834c9",
   "metadata": {},
   "source": [
    "![image.png](attachment:image.png)"
   ]
  },
  {
   "cell_type": "markdown",
   "id": "00d8b144",
   "metadata": {},
   "source": [
    "## 차원 축소 연산"
   ]
  },
  {
   "cell_type": "code",
   "execution_count": 89,
   "id": "2a229a9a",
   "metadata": {
    "ExecuteTime": {
     "end_time": "2022-02-01T10:00:07.321550Z",
     "start_time": "2022-02-01T10:00:07.310521Z"
    }
   },
   "outputs": [
    {
     "data": {
      "text/plain": [
       "array([1, 2, 3, 4])"
      ]
     },
     "execution_count": 89,
     "metadata": {},
     "output_type": "execute_result"
    }
   ],
   "source": [
    "x = np.array([1, 2, 3, 4])\n",
    "x"
   ]
  },
  {
   "cell_type": "code",
   "execution_count": 90,
   "id": "9f457352",
   "metadata": {
    "ExecuteTime": {
     "end_time": "2022-02-01T10:36:58.107463Z",
     "start_time": "2022-02-01T10:36:58.094209Z"
    }
   },
   "outputs": [
    {
     "data": {
      "text/plain": [
       "0"
      ]
     },
     "execution_count": 90,
     "metadata": {},
     "output_type": "execute_result"
    }
   ],
   "source": [
    "# 최솟값의 위치\n",
    "x.argmin()"
   ]
  },
  {
   "cell_type": "code",
   "execution_count": 92,
   "id": "d54a801c",
   "metadata": {
    "ExecuteTime": {
     "end_time": "2022-02-01T10:37:20.903817Z",
     "start_time": "2022-02-01T10:37:20.893943Z"
    }
   },
   "outputs": [
    {
     "data": {
      "text/plain": [
       "3"
      ]
     },
     "execution_count": 92,
     "metadata": {},
     "output_type": "execute_result"
    }
   ],
   "source": [
    "# 최댓값의 위치\n",
    "x.argmax()"
   ]
  },
  {
   "attachments": {
    "image.png": {
     "image/png": "[encoded data removed]"
    }
   },
   "cell_type": "markdown",
   "id": "34c6e4f5",
   "metadata": {},
   "source": [
    "![image.png](attachment:image.png)"
   ]
  },
  {
   "cell_type": "markdown",
   "id": "c3434e7c",
   "metadata": {},
   "source": [
    "# 기술 통계"
   ]
  },
  {
   "attachments": {
    "image.png": {
     "image/png": "[encoded data removed]"
    }
   },
   "cell_type": "markdown",
   "id": "c4706be6",
   "metadata": {},
   "source": [
    "![image.png](attachment:image.png)"
   ]
  },
  {
   "cell_type": "markdown",
   "id": "2217f189",
   "metadata": {},
   "source": [
    "## 사분위수"
   ]
  },
  {
   "attachments": {
    "image.png": {
     "image/png": "[encoded data removed]"
    }
   },
   "cell_type": "markdown",
   "id": "3e69bee6",
   "metadata": {},
   "source": [
    "![image.png](attachment:image.png)"
   ]
  },
  {
   "cell_type": "code",
   "execution_count": 102,
   "id": "2925dc1f",
   "metadata": {
    "ExecuteTime": {
     "end_time": "2022-02-01T11:07:51.356614Z",
     "start_time": "2022-02-01T11:07:51.342102Z"
    }
   },
   "outputs": [
    {
     "data": {
      "text/plain": [
       "1.0"
      ]
     },
     "execution_count": 102,
     "metadata": {},
     "output_type": "execute_result"
    }
   ],
   "source": [
    "np.percentile(x, 0)  # 최소값"
   ]
  },
  {
   "cell_type": "code",
   "execution_count": 103,
   "id": "cfe1507e",
   "metadata": {
    "ExecuteTime": {
     "end_time": "2022-02-01T11:07:59.291643Z",
     "start_time": "2022-02-01T11:07:59.287644Z"
    }
   },
   "outputs": [
    {
     "data": {
      "text/plain": [
       "1.75"
      ]
     },
     "execution_count": 103,
     "metadata": {},
     "output_type": "execute_result"
    }
   ],
   "source": [
    "np.percentile(x, 25)  # 1사분위 수"
   ]
  },
  {
   "cell_type": "code",
   "execution_count": 104,
   "id": "b8aee0d5",
   "metadata": {
    "ExecuteTime": {
     "end_time": "2022-02-01T11:08:03.595387Z",
     "start_time": "2022-02-01T11:08:03.579247Z"
    }
   },
   "outputs": [
    {
     "data": {
      "text/plain": [
       "2.5"
      ]
     },
     "execution_count": 104,
     "metadata": {},
     "output_type": "execute_result"
    }
   ],
   "source": [
    "np.percentile(x, 50)  # 2사분위 수"
   ]
  },
  {
   "cell_type": "code",
   "execution_count": 105,
   "id": "1d45a7d0",
   "metadata": {
    "ExecuteTime": {
     "end_time": "2022-02-01T11:08:10.344455Z",
     "start_time": "2022-02-01T11:08:10.332975Z"
    }
   },
   "outputs": [
    {
     "data": {
      "text/plain": [
       "3.25"
      ]
     },
     "execution_count": 105,
     "metadata": {},
     "output_type": "execute_result"
    }
   ],
   "source": [
    "np.percentile(x, 75)  # 3사분위 수"
   ]
  },
  {
   "cell_type": "code",
   "execution_count": 106,
   "id": "01a88cb5",
   "metadata": {
    "ExecuteTime": {
     "end_time": "2022-02-01T11:08:16.676807Z",
     "start_time": "2022-02-01T11:08:16.667807Z"
    }
   },
   "outputs": [
    {
     "data": {
      "text/plain": [
       "4.0"
      ]
     },
     "execution_count": 106,
     "metadata": {},
     "output_type": "execute_result"
    }
   ],
   "source": [
    "np.percentile(x, 100)  # 최댓값"
   ]
  },
  {
   "cell_type": "markdown",
   "id": "25f364c6",
   "metadata": {},
   "source": [
    "# 난수 발생과 카운팅"
   ]
  },
  {
   "cell_type": "markdown",
   "id": "de3ccc60",
   "metadata": {},
   "source": [
    "## 시드 설정하기"
   ]
  },
  {
   "attachments": {
    "image.png": {
     "image/png": "[encoded data removed]"
    }
   },
   "cell_type": "markdown",
   "id": "337da57b",
   "metadata": {},
   "source": [
    "![image.png](attachment:image.png)"
   ]
  },
  {
   "cell_type": "code",
   "execution_count": 116,
   "id": "01b6b963",
   "metadata": {
    "ExecuteTime": {
     "end_time": "2022-02-01T11:58:53.968727Z",
     "start_time": "2022-02-01T11:58:53.962726Z"
    }
   },
   "outputs": [],
   "source": [
    "np.random.seed(0)"
   ]
  },
  {
   "cell_type": "code",
   "execution_count": 117,
   "id": "d3d4ea46",
   "metadata": {
    "ExecuteTime": {
     "end_time": "2022-02-01T11:58:54.362906Z",
     "start_time": "2022-02-01T11:58:54.351898Z"
    }
   },
   "outputs": [
    {
     "data": {
      "text/plain": [
       "array([0.5488135 , 0.71518937, 0.60276338, 0.54488318, 0.4236548 ])"
      ]
     },
     "execution_count": 117,
     "metadata": {},
     "output_type": "execute_result"
    }
   ],
   "source": [
    "np.random.rand(5)"
   ]
  },
  {
   "cell_type": "code",
   "execution_count": 118,
   "id": "16113893",
   "metadata": {
    "ExecuteTime": {
     "end_time": "2022-02-01T11:58:54.741007Z",
     "start_time": "2022-02-01T11:58:54.731007Z"
    }
   },
   "outputs": [
    {
     "data": {
      "text/plain": [
       "array([0.64589411, 0.43758721, 0.891773  , 0.96366276, 0.38344152])"
      ]
     },
     "execution_count": 118,
     "metadata": {},
     "output_type": "execute_result"
    }
   ],
   "source": [
    "np.random.rand(5)"
   ]
  },
  {
   "cell_type": "markdown",
   "id": "4bbe79e1",
   "metadata": {},
   "source": [
    "## 데이터의 순서 바꾸기"
   ]
  },
  {
   "cell_type": "code",
   "execution_count": 119,
   "id": "589e163f",
   "metadata": {
    "ExecuteTime": {
     "end_time": "2022-02-01T11:59:41.072435Z",
     "start_time": "2022-02-01T11:59:41.058435Z"
    }
   },
   "outputs": [
    {
     "data": {
      "text/plain": [
       "array([0, 1, 2, 3, 4, 5, 6, 7, 8, 9])"
      ]
     },
     "execution_count": 119,
     "metadata": {},
     "output_type": "execute_result"
    }
   ],
   "source": [
    "x = np.arange(10)\n",
    "x"
   ]
  },
  {
   "cell_type": "code",
   "execution_count": 122,
   "id": "c1325088",
   "metadata": {
    "ExecuteTime": {
     "end_time": "2022-02-01T12:00:08.989994Z",
     "start_time": "2022-02-01T12:00:08.981232Z"
    }
   },
   "outputs": [
    {
     "data": {
      "text/plain": [
       "array([0, 2, 6, 3, 9, 8, 5, 4, 1, 7])"
      ]
     },
     "execution_count": 122,
     "metadata": {},
     "output_type": "execute_result"
    }
   ],
   "source": [
    "np.random.shuffle(x)\n",
    "x"
   ]
  },
  {
   "cell_type": "markdown",
   "id": "a550b4f0",
   "metadata": {},
   "source": [
    "## 데이터 샘플링\n",
    "- 이미 있는 데이터에서 일부를 무작위로 선택하는 것 -> choice\n",
    "- numpy.random.choice(a, size=None, replace=True, p=None)"
   ]
  },
  {
   "attachments": {
    "image.png": {
     "image/png": "[encoded data removed]"
    }
   },
   "cell_type": "markdown",
   "id": "c3256d73",
   "metadata": {},
   "source": [
    "![image.png](attachment:image.png)"
   ]
  },
  {
   "cell_type": "code",
   "execution_count": 123,
   "id": "7b193144",
   "metadata": {
    "ExecuteTime": {
     "end_time": "2022-02-01T12:01:38.605125Z",
     "start_time": "2022-02-01T12:01:38.596575Z"
    }
   },
   "outputs": [
    {
     "data": {
      "text/plain": [
       "array([0, 4, 2, 1, 3])"
      ]
     },
     "execution_count": 123,
     "metadata": {},
     "output_type": "execute_result"
    }
   ],
   "source": [
    "np.random.choice(5, 5, replace=False)  # shuffle 명령과 같다."
   ]
  },
  {
   "cell_type": "code",
   "execution_count": 124,
   "id": "9144ebfa",
   "metadata": {
    "ExecuteTime": {
     "end_time": "2022-02-01T12:02:21.824908Z",
     "start_time": "2022-02-01T12:02:21.810517Z"
    }
   },
   "outputs": [
    {
     "data": {
      "text/plain": [
       "array([4, 2, 3])"
      ]
     },
     "execution_count": 124,
     "metadata": {},
     "output_type": "execute_result"
    }
   ],
   "source": [
    "np.random.choice(5, 3, replace=False)  # 3개만 선택"
   ]
  },
  {
   "cell_type": "code",
   "execution_count": 125,
   "id": "d5dea8f0",
   "metadata": {
    "ExecuteTime": {
     "end_time": "2022-02-01T12:02:30.427102Z",
     "start_time": "2022-02-01T12:02:30.421102Z"
    }
   },
   "outputs": [
    {
     "data": {
      "text/plain": [
       "array([0, 2, 4, 3, 3, 2, 4, 2, 0, 0])"
      ]
     },
     "execution_count": 125,
     "metadata": {},
     "output_type": "execute_result"
    }
   ],
   "source": [
    "np.random.choice(5, 10)  # 반복해서 10개 선택"
   ]
  },
  {
   "cell_type": "code",
   "execution_count": 126,
   "id": "de33443b",
   "metadata": {
    "ExecuteTime": {
     "end_time": "2022-02-01T12:02:37.649303Z",
     "start_time": "2022-02-01T12:02:37.641303Z"
    }
   },
   "outputs": [
    {
     "data": {
      "text/plain": [
       "array([2, 2, 2, 2, 3, 3, 3, 3, 0, 3])"
      ]
     },
     "execution_count": 126,
     "metadata": {},
     "output_type": "execute_result"
    }
   ],
   "source": [
    "np.random.choice(5, 10, p=[0.1, 0, 0.3, 0.6, 0])  # 선택 확률을 다르게 해서 10개 선택"
   ]
  },
  {
   "cell_type": "markdown",
   "id": "692fe540",
   "metadata": {},
   "source": [
    "## 난수 생성\n",
    "- rand: 0부터 1사이의 균일 분포\n",
    "- randn: 기댓값이 0이고 표준편차가 1인 표준 정규 분포를 따르는 난수\n",
    "- randint: 균일 분포의 정수 난수"
   ]
  },
  {
   "cell_type": "code",
   "execution_count": 127,
   "id": "1326a570",
   "metadata": {
    "ExecuteTime": {
     "end_time": "2022-02-01T12:03:22.702132Z",
     "start_time": "2022-02-01T12:03:22.692124Z"
    }
   },
   "outputs": [
    {
     "data": {
      "text/plain": [
       "array([0.65314004, 0.17090959, 0.35815217, 0.75068614, 0.60783067,\n",
       "       0.32504723, 0.03842543, 0.63427406, 0.95894927, 0.65279032])"
      ]
     },
     "execution_count": 127,
     "metadata": {},
     "output_type": "execute_result"
    }
   ],
   "source": [
    "np.random.rand(10)"
   ]
  },
  {
   "cell_type": "code",
   "execution_count": 128,
   "id": "1361a8cc",
   "metadata": {
    "ExecuteTime": {
     "end_time": "2022-02-01T12:03:39.291204Z",
     "start_time": "2022-02-01T12:03:39.272204Z"
    }
   },
   "outputs": [
    {
     "data": {
      "text/plain": [
       "array([[0.63505887, 0.99529957, 0.58185033, 0.41436859, 0.4746975 ],\n",
       "       [0.6235101 , 0.33800761, 0.67475232, 0.31720174, 0.77834548],\n",
       "       [0.94957105, 0.66252687, 0.01357164, 0.6228461 , 0.67365963]])"
      ]
     },
     "execution_count": 128,
     "metadata": {},
     "output_type": "execute_result"
    }
   ],
   "source": [
    "np.random.rand(3, 5)"
   ]
  },
  {
   "cell_type": "code",
   "execution_count": 129,
   "id": "afb9a48a",
   "metadata": {
    "ExecuteTime": {
     "end_time": "2022-02-01T12:04:26.986082Z",
     "start_time": "2022-02-01T12:04:26.979082Z"
    }
   },
   "outputs": [
    {
     "data": {
      "text/plain": [
       "array([-0.68658948,  0.01487332, -0.3756659 , -0.03822364,  0.36797447,\n",
       "       -0.0447237 , -0.30237513, -2.2244036 ,  0.72400636,  0.35900276])"
      ]
     },
     "execution_count": 129,
     "metadata": {},
     "output_type": "execute_result"
    }
   ],
   "source": [
    "np.random.randn(10)"
   ]
  },
  {
   "cell_type": "markdown",
   "id": "ec8f639c",
   "metadata": {
    "ExecuteTime": {
     "end_time": "2022-02-01T12:05:38.724763Z",
     "start_time": "2022-02-01T12:05:38.719763Z"
    }
   },
   "source": [
    "'''\n",
    "numpy.random.randint(low, high=None, size=None)\n",
    "만약 high를 입력하지 않으면 0과 low사이의 숫자를, high를 입력하면 \n",
    "low와 high는 사이의 숫자를 출력한다. \n",
    "size는 난수의 숫자이다\n",
    "'''"
   ]
  },
  {
   "cell_type": "code",
   "execution_count": 134,
   "id": "e007c750",
   "metadata": {
    "ExecuteTime": {
     "end_time": "2022-02-01T12:06:51.609603Z",
     "start_time": "2022-02-01T12:06:51.594675Z"
    }
   },
   "outputs": [
    {
     "data": {
      "text/plain": [
       "array([[13, 12, 13, 14, 11],\n",
       "       [12, 19, 11, 14, 16],\n",
       "       [18, 12, 13, 10, 10]])"
      ]
     },
     "execution_count": 134,
     "metadata": {},
     "output_type": "execute_result"
    }
   ],
   "source": [
    "np.random.randint(10, 20, size=(3, 5))"
   ]
  },
  {
   "attachments": {
    "image.png": {
     "image/png": "[encoded data removed]"
    }
   },
   "cell_type": "markdown",
   "id": "05ac53c5",
   "metadata": {},
   "source": [
    "![image.png](attachment:image.png)"
   ]
  },
  {
   "cell_type": "code",
   "execution_count": null,
   "id": "5716e263",
   "metadata": {},
   "outputs": [],
   "source": []
  }
 ],
 "metadata": {
  "kernelspec": {
   "display_name": "Python 3 (ipykernel)",
   "language": "python",
   "name": "python3"
  },
  "language_info": {
   "codemirror_mode": {
    "name": "ipython",
    "version": 3
   },
   "file_extension": ".py",
   "mimetype": "text/x-python",
   "name": "python",
   "nbconvert_exporter": "python",
   "pygments_lexer": "ipython3",
   "version": "3.8.8"
  },
  "toc": {
   "base_numbering": 1,
   "nav_menu": {},
   "number_sections": true,
   "sideBar": true,
   "skip_h1_title": false,
   "title_cell": "Table of Contents",
   "title_sidebar": "Contents",
   "toc_cell": false,
   "toc_position": {},
   "toc_section_display": true,
   "toc_window_display": false
  }
 },
 "nbformat": 4,
 "nbformat_minor": 5
}
